{
 "cells": [
  {
   "cell_type": "code",
   "execution_count": 20,
   "id": "294b9174",
   "metadata": {},
   "outputs": [],
   "source": [
    "import numpy as np\n",
    "import pandas as pd\n",
    "import matplotlib.pyplot as plt\n",
    "import seaborn as sns"
   ]
  },
  {
   "cell_type": "code",
   "execution_count": 21,
   "id": "167ba4fe",
   "metadata": {},
   "outputs": [],
   "source": [
    "def american_put(T, S, K, r, sigma, q, n):\n",
    "    \"\"\"\n",
    "    '  T... expiration time\n",
    "    '  S... stock price\n",
    "    '  K... strike price\n",
    "    '  r... interest rate\n",
    "    '  sigma... volatility of the stock price\n",
    "    '  q... dividend yield\n",
    "    '  n... height of the binomial tree\n",
    "    \"\"\"\n",
    "    dt = T / n\n",
    "    up = np.exp(sigma * np.sqrt(dt))\n",
    "    p0 = (up * np.exp(-q * dt) - np.exp(-r * dt)) / (up ** 2  - 1)\n",
    "    p1 = np.exp(-r * dt) - p0\n",
    "\n",
    "    p = [0] * (n + 1)\n",
    "\n",
    "    for i in range(n + 1):\n",
    "        p[i] = max(K - S * up ** (2*i - n + 1), 0)\n",
    "\n",
    "    for j in range(n -1, -1, -1):\n",
    "        for i in range(j + 1):\n",
    "            p[i] = p0 * p[i + 1] + p1 * p[i]\n",
    "            exercise = K - S * up ** (2 * i - j + 1)\n",
    "            p[i] = max(p[i], exercise)\n",
    "\n",
    "    return p[0]\n",
    "        \n"
   ]
  },
  {
   "cell_type": "code",
   "execution_count": 22,
   "id": "6be550ce",
   "metadata": {},
   "outputs": [],
   "source": [
    "def american_call(T, S, K, r, sigma, q, n):\n",
    "    \"\"\"\n",
    "    '  T... expiration time\n",
    "    '  S... stock price\n",
    "    '  K... strike price\n",
    "    '  r... interest rate\n",
    "    '  sigma... volatility of the stock price\n",
    "    '  q... dividend yield\n",
    "    '  n... height of the binomial tree\n",
    "    \"\"\"\n",
    "    dt = T / n\n",
    "    up = np.exp(sigma * np.sqrt(dt))\n",
    "    p0 = (up * np.exp(-q * dt) - np.exp(-r * dt)) / (up ** 2  - 1)\n",
    "    p1 = np.exp(-r * dt) - p0\n",
    "\n",
    "    p = [0] * (n + 1)\n",
    "\n",
    "    for i in range(n + 1):\n",
    "        p[i] = max(S * up ** (2*i - n + 1) - K, 0)\n",
    "\n",
    "    for j in range(n -1, -1, -1):\n",
    "        for i in range(j + 1):\n",
    "            p[i] = p0 * p[i + 1] + p1 * p[i]\n",
    "            exercise = S * up ** (2 * i - j + 1) - K\n",
    "            p[i] = max(p[i], exercise)\n",
    "\n",
    "    return p[0]"
   ]
  },
  {
   "cell_type": "code",
   "execution_count": 27,
   "id": "90ba9219",
   "metadata": {},
   "outputs": [
    {
     "data": {
      "text/plain": [
       "4.652065072174252e-24"
      ]
     },
     "execution_count": 27,
     "metadata": {},
     "output_type": "execute_result"
    }
   ],
   "source": [
    "# american_put(1, 10, 30, 0.1, 0.2, 0.02, 1000)\n",
    "american_call(1, 10, 30, 0.1, 0.2, 1, 1000)\n",
    "# def american_call(T, S, K, r, sigma, q, n):\n",
    "#     \"\"\"\n",
    "#     '  T... expiration time\n",
    "#     '  S... stock price\n",
    "#     '  K... strike price\n",
    "#     '  r... interest rate\n",
    "#     '  sigma... volatility of the stock price\n",
    "#     '  q... dividend yield\n",
    "#     '  n... height of the binomial tree\n",
    "#     \"\"\""
   ]
  }
 ],
 "metadata": {
  "kernelspec": {
   "display_name": "black-scholes",
   "language": "python",
   "name": "python3"
  },
  "language_info": {
   "codemirror_mode": {
    "name": "ipython",
    "version": 3
   },
   "file_extension": ".py",
   "mimetype": "text/x-python",
   "name": "python",
   "nbconvert_exporter": "python",
   "pygments_lexer": "ipython3",
   "version": "3.9.6"
  }
 },
 "nbformat": 4,
 "nbformat_minor": 5
}
